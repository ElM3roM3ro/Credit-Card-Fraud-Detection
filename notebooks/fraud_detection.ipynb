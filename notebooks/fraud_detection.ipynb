{
 "cells": [
  {
   "cell_type": "code",
   "execution_count": 1,
   "id": "e96bd4fd",
   "metadata": {},
   "outputs": [
    {
     "name": "stdout",
     "output_type": "stream",
     "text": [
      "   id        V1        V2        V3        V4        V5        V6        V7  \\\n",
      "0   0 -0.260648 -0.469648  2.496266 -0.083724  0.129681  0.732898  0.519014   \n",
      "1   1  0.985100 -0.356045  0.558056 -0.429654  0.277140  0.428605  0.406466   \n",
      "2   2 -0.260272 -0.949385  1.728538 -0.457986  0.074062  1.419481  0.743511   \n",
      "3   3 -0.152152 -0.508959  1.746840 -1.090178  0.249486  1.143312  0.518269   \n",
      "4   4 -0.206820 -0.165280  1.527053 -0.448293  0.106125  0.530549  0.658849   \n",
      "\n",
      "         V8        V9  ...       V21       V22       V23       V24       V25  \\\n",
      "0 -0.130006  0.727159  ... -0.110552  0.217606 -0.134794  0.165959  0.126280   \n",
      "1 -0.133118  0.347452  ... -0.194936 -0.605761  0.079469 -0.577395  0.190090   \n",
      "2 -0.095576 -0.261297  ... -0.005020  0.702906  0.945045 -1.154666 -0.605564   \n",
      "3 -0.065130 -0.205698  ... -0.146927 -0.038212 -0.214048 -1.893131  1.003963   \n",
      "4 -0.212660  1.049921  ... -0.106984  0.729727 -0.161666  0.312561 -0.414116   \n",
      "\n",
      "        V26       V27       V28    Amount  Class  \n",
      "0 -0.434824 -0.081230 -0.151045  17982.10      0  \n",
      "1  0.296503 -0.248052 -0.064512   6531.37      0  \n",
      "2 -0.312895 -0.300258 -0.244718   2513.54      0  \n",
      "3 -0.515950 -0.165316  0.048424   5384.44      0  \n",
      "4  1.071126  0.023712  0.419117  14278.97      0  \n",
      "\n",
      "[5 rows x 31 columns]\n",
      "<class 'pandas.core.frame.DataFrame'>\n",
      "RangeIndex: 568630 entries, 0 to 568629\n",
      "Data columns (total 31 columns):\n",
      " #   Column  Non-Null Count   Dtype  \n",
      "---  ------  --------------   -----  \n",
      " 0   id      568630 non-null  int64  \n",
      " 1   V1      568630 non-null  float64\n",
      " 2   V2      568630 non-null  float64\n",
      " 3   V3      568630 non-null  float64\n",
      " 4   V4      568630 non-null  float64\n",
      " 5   V5      568630 non-null  float64\n",
      " 6   V6      568630 non-null  float64\n",
      " 7   V7      568630 non-null  float64\n",
      " 8   V8      568630 non-null  float64\n",
      " 9   V9      568630 non-null  float64\n",
      " 10  V10     568630 non-null  float64\n",
      " 11  V11     568630 non-null  float64\n",
      " 12  V12     568630 non-null  float64\n",
      " 13  V13     568630 non-null  float64\n",
      " 14  V14     568630 non-null  float64\n",
      " 15  V15     568630 non-null  float64\n",
      " 16  V16     568630 non-null  float64\n",
      " 17  V17     568630 non-null  float64\n",
      " 18  V18     568630 non-null  float64\n",
      " 19  V19     568630 non-null  float64\n",
      " 20  V20     568630 non-null  float64\n",
      " 21  V21     568630 non-null  float64\n",
      " 22  V22     568630 non-null  float64\n",
      " 23  V23     568630 non-null  float64\n",
      " 24  V24     568630 non-null  float64\n",
      " 25  V25     568630 non-null  float64\n",
      " 26  V26     568630 non-null  float64\n",
      " 27  V27     568630 non-null  float64\n",
      " 28  V28     568630 non-null  float64\n",
      " 29  Amount  568630 non-null  float64\n",
      " 30  Class   568630 non-null  int64  \n",
      "dtypes: float64(29), int64(2)\n",
      "memory usage: 134.5 MB\n",
      "None\n",
      "Class\n",
      "0    284315\n",
      "1    284315\n",
      "Name: count, dtype: int64\n"
     ]
    },
    {
     "data": {
      "text/plain": [
       "Class\n",
       "0    0.5\n",
       "1    0.5\n",
       "Name: proportion, dtype: float64"
      ]
     },
     "execution_count": 1,
     "metadata": {},
     "output_type": "execute_result"
    }
   ],
   "source": [
    "import pandas as pd\n",
    "\n",
    "#Below is us loading and exploring the dataset intially\n",
    "\n",
    "#Read the data\n",
    "df = pd.read_csv('../data/creditcard_2023.csv')\n",
    "print(df.head())\n",
    "print(df.info())\n",
    "print(df['Class'].value_counts())\n",
    "\n",
    "#Check if this thing really is already balanced\n",
    "df['Class'].value_counts(normalize=True)"
   ]
  },
  {
   "cell_type": "code",
   "execution_count": null,
   "id": "f687821a",
   "metadata": {},
   "outputs": [],
   "source": [
    "import seaborn as sns\n",
    "import matplotlib.pyplot as plt\n",
    "\n",
    "#Visualize Class distribution\n",
    "\n",
    "sns.countplot(x='Class', data=df)  # Show imbalance\n",
    "\n",
    "# Plot distributions for some V features\n",
    "df['V1'].hist(bins=50)\n"
   ]
  }
 ],
 "metadata": {
  "kernelspec": {
   "display_name": "Python 3",
   "language": "python",
   "name": "python3"
  },
  "language_info": {
   "codemirror_mode": {
    "name": "ipython",
    "version": 3
   },
   "file_extension": ".py",
   "mimetype": "text/x-python",
   "name": "python",
   "nbconvert_exporter": "python",
   "pygments_lexer": "ipython3",
   "version": "3.12.0"
  }
 },
 "nbformat": 4,
 "nbformat_minor": 5
}
